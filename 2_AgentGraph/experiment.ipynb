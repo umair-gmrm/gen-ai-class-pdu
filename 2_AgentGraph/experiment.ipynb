{
 "cells": [
  {
   "cell_type": "code",
   "execution_count": 42,
   "id": "5868e17e",
   "metadata": {},
   "outputs": [],
   "source": [
    "from typing import TypedDict\n",
    "from langgraph.graph import StateGraph , START , END\n",
    "import random\n",
    "\n",
    "class AgentState(TypedDict):\n",
    "    value_1:int\n",
    "    value_2:int\n",
    "    output : float\n",
    "\n",
    "    \n"
   ]
  },
  {
   "cell_type": "code",
   "execution_count": 32,
   "id": "38c47960",
   "metadata": {},
   "outputs": [],
   "source": [
    "def roll_dice_1(state:AgentState) -> AgentState:\n",
    "    state['value_1'] = random.randint(1, 6)\n",
    "    return state\n",
    "\n",
    "\n",
    "def roll_dice_2(state:AgentState) -> AgentState:\n",
    "    state['value_2'] = random.randint(1, 6)\n",
    "    return state\n",
    "\n",
    "\n",
    "def router(state:AgentState) -> str:\n",
    "    if state['value_1'] % 2 == 0 and state['value_2'] % 2 == 0:\n",
    "        return \"division\"\n",
    "    \n",
    "    if state['value_1'] % 2 == 1 and state['value_2'] % 2 == 1:\n",
    "        return \"multiplication\"\n",
    "    else:\n",
    "        return \"addition\"\n",
    "\n",
    "\n",
    "def multiplier(state:AgentState) -> AgentState:\n",
    "    state['output'] = state['value_1'] * state['value_2']\n",
    "    return state\n",
    "\n",
    "\n",
    "def adder(state:AgentState) -> AgentState:\n",
    "    state['output'] = state['value_1'] + state['value_2']\n",
    "    return state\n",
    "\n",
    "\n",
    "def divider(state:AgentState) -> AgentState:\n",
    "    state['output'] = state['value_1'] / state['value_2']\n",
    "    return state"
   ]
  },
  {
   "cell_type": "code",
   "execution_count": null,
   "id": "5eb747ba",
   "metadata": {},
   "outputs": [],
   "source": []
  },
  {
   "cell_type": "code",
   "execution_count": 33,
   "id": "dcec7c9d",
   "metadata": {},
   "outputs": [
    {
     "data": {
      "image/png": "[encoded data removed]",
      "text/plain": [
       "<langgraph.graph.state.CompiledStateGraph object at 0x78e9fd120170>"
      ]
     },
     "execution_count": 33,
     "metadata": {},
     "output_type": "execute_result"
    }
   ],
   "source": [
    "graph = StateGraph(AgentState)\n",
    "\n",
    "graph.add_node(\"roll_dice_1\", roll_dice_1)\n",
    "graph.add_node(\"roll_dice_2\", roll_dice_2)\n",
    "graph.add_node(\"router\", lambda state: state)\n",
    "\n",
    "\n",
    "graph.add_node(\"multiplication\", multiplier)\n",
    "graph.add_node(\"addition\", adder)\n",
    "graph.add_node(\"division\", divider)\n",
    "\n",
    "graph.add_edge(START, \"roll_dice_1\")\n",
    "graph.add_edge(\"roll_dice_1\", \"roll_dice_2\")\n",
    "graph.add_edge(\"roll_dice_2\", \"router\")\n",
    "\n",
    "graph.add_conditional_edges(\n",
    "    \"router\",\n",
    "    router,\n",
    "    {\n",
    "        \"multiplication\": \"multiplication\",\n",
    "        \"addition\": \"addition\",\n",
    "        \"division\": \"division\"\n",
    "    }\n",
    ")\n",
    "\n",
    "graph.add_edge('router',END)\n",
    "\n",
    "compiled_graph = graph.compile()\n",
    "\n",
    "compiled_graph"
   ]
  },
  {
   "cell_type": "code",
   "execution_count": 41,
   "id": "c09aa173",
   "metadata": {},
   "outputs": [
    {
     "data": {
      "text/plain": [
       "{'value_1': 3, 'value_2': 5, 'output': 15}"
      ]
     },
     "execution_count": 41,
     "metadata": {},
     "output_type": "execute_result"
    }
   ],
   "source": [
    "compiled_graph.invoke(AgentState(value=0))"
   ]
  },
  {
   "cell_type": "code",
   "execution_count": null,
   "id": "34a0b6f2",
   "metadata": {},
   "outputs": [],
   "source": []
  },
  {
   "cell_type": "code",
   "execution_count": null,
   "id": "51330082",
   "metadata": {},
   "outputs": [],
   "source": []
  }
 ],
 "metadata": {
  "kernelspec": {
   "display_name": "venv",
   "language": "python",
   "name": "python3"
  },
  "language_info": {
   "codemirror_mode": {
    "name": "ipython",
    "version": 3
   },
   "file_extension": ".py",
   "mimetype": "text/x-python",
   "name": "python",
   "nbconvert_exporter": "python",
   "pygments_lexer": "ipython3",
   "version": "3.12.10"
  }
 },
 "nbformat": 4,
 "nbformat_minor": 5
}
